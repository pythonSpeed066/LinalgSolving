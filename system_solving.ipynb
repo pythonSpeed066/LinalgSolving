{
 "cells": [
  {
   "cell_type": "code",
   "execution_count": 1,
   "id": "f8a25c0e-b2f0-4dcc-98ee-6cdba5e3a43a",
   "metadata": {},
   "outputs": [],
   "source": [
    "import numpy as np"
   ]
  },
  {
   "cell_type": "code",
   "execution_count": 57,
   "id": "db36eb74-01fc-4e91-bff0-f5252f778e78",
   "metadata": {},
   "outputs": [],
   "source": [
    "def solve_jordan_gauss(coeff_matrix_A, vector_B):\n",
    "    extended_matrix = np.hstack([coeff_matrix_A, vector_B.reshape(-1, 1)])\n",
    "    n = extended_matrix.shape[0]\n",
    "    for i in range(n):\n",
    "        # нормализуем по элементу главной диагонали\n",
    "        extended_matrix[i] = extended_matrix[i] / extended_matrix[i, i]\n",
    "        for j in range(n):\n",
    "            if i != j:\n",
    "                extended_matrix[j] = extended_matrix[j] - extended_matrix[j, i] * extended_matrix[i]\n",
    "    solution = extended_matrix[:, -1]\n",
    "    return solution"
   ]
  },
  {
   "cell_type": "code",
   "execution_count": 60,
   "id": "e859173a-c133-4135-b335-66e27f949870",
   "metadata": {},
   "outputs": [],
   "source": [
    "def check_consistency(A, B):\n",
    "    rank_A = np.linalg.matrix_rank(A)\n",
    "    rank_AB = np.linalg.matrix_rank(np.hstack([A, B.reshape(-1, 1)]))\n",
    "    if rank_A == rank_AB:\n",
    "        if rank_A == A.shape[1]:\n",
    "            print('Система имеет единственное решение', solve_jordan_gauss(A, B))\n",
    "        else:\n",
    "            print('Система имеет бесконечно много решений')\n",
    "    else:\n",
    "        print('Система несовместна')"
   ]
  },
  {
   "cell_type": "code",
   "execution_count": 61,
   "id": "39b0f250-d29c-448b-95d6-900acfafebf0",
   "metadata": {},
   "outputs": [],
   "source": [
    "A = np.array([[2, 1, -1],\n",
    "              [-3, -1, 2],\n",
    "              [-2, 1, 2]], dtype=float)\n",
    "B = np.array([8, -11, -3], dtype=float)"
   ]
  },
  {
   "cell_type": "code",
   "execution_count": 62,
   "id": "84d7eea6-b83e-4e68-98c1-44c3e9be653c",
   "metadata": {},
   "outputs": [
    {
     "name": "stdout",
     "output_type": "stream",
     "text": [
      "Система имеет единственное решение [ 2.  3. -1.]\n"
     ]
    }
   ],
   "source": [
    "check_consistency(A, B)"
   ]
  },
  {
   "cell_type": "code",
   "execution_count": 58,
   "id": "fb81abde-7dad-476d-a1e9-9c3957af55d9",
   "metadata": {},
   "outputs": [],
   "source": []
  },
  {
   "cell_type": "code",
   "execution_count": null,
   "id": "d0bdf784-4032-49e3-9c42-8c01f98113dc",
   "metadata": {},
   "outputs": [],
   "source": []
  }
 ],
 "metadata": {
  "kernelspec": {
   "display_name": "Python 3 (ipykernel)",
   "language": "python",
   "name": "python3"
  },
  "language_info": {
   "codemirror_mode": {
    "name": "ipython",
    "version": 3
   },
   "file_extension": ".py",
   "mimetype": "text/x-python",
   "name": "python",
   "nbconvert_exporter": "python",
   "pygments_lexer": "ipython3",
   "version": "3.12.8"
  }
 },
 "nbformat": 4,
 "nbformat_minor": 5
}
